{
  "nbformat": 4,
  "nbformat_minor": 0,
  "metadata": {
    "colab": {
      "name": "pyBot.ipynb",
      "provenance": [],
      "collapsed_sections": [],
      "authorship_tag": "ABX9TyM55vQTCGybm2/T4QEQKiZx",
      "include_colab_link": true
    },
    "kernelspec": {
      "name": "python3",
      "display_name": "Python 3"
    },
    "language_info": {
      "name": "python"
    }
  },
  "cells": [
    {
      "cell_type": "markdown",
      "metadata": {
        "id": "view-in-github",
        "colab_type": "text"
      },
      "source": [
        "<a href=\"https://colab.research.google.com/github/ErrorOfTheGeneration/pyBotTG_google/blob/main/pyBot.ipynb\" target=\"_parent\"><img src=\"https://colab.research.google.com/assets/colab-badge.svg\" alt=\"Open In Colab\"/></a>"
      ]
    },
    {
      "cell_type": "code",
      "source": [
        "import random"
      ],
      "metadata": {
        "id": "6Ni3H01aYMXC"
      },
      "execution_count": 35,
      "outputs": []
    },
    {
      "cell_type": "code",
      "execution_count": 36,
      "metadata": {
        "id": "FqRWgfSxuM5E"
      },
      "outputs": [],
      "source": [
        "# словарь словарей. Нужен нам для того, чтобы определять, что хочет пользователь\n",
        "# и соттветствующе отвечать ему\n",
        "BOT_CONFIG = {\n",
        "    'intents': {\n",
        "        'hello': {\n",
        "            'examples': ['Привет!', 'Хай', 'Добрый день'], # примеры приветствия\n",
        "            'resposes': ['Доброго времени суток', 'Прив']  #ответы бота\n",
        "        },\n",
        "        'bye': {\n",
        "            'examples': ['Пока', 'До свидания', 'Увидимся'],\n",
        "            'resposes': ['Счастливо',  'Удачного дня', 'Приходите ещё']\n",
        "        }\n",
        "    }\n",
        "}"
      ]
    },
    {
      "cell_type": "code",
      "source": [
        "\n",
        "\n",
        "def clean(text): #принимает текст, возвращает чищенный текст ниж.регистр и без знаков препинания\n",
        "  return ''.join([simbol for simbol in text.lower() if simbol in 'абвгдеёжзийклмнопрстуфхцчшщъыьэюя '])\n",
        "\n",
        "# функция match нужна для того, чтобы бот не был чувствителен к\n",
        "# регистру или знакам препинания\n",
        "\n",
        "def match(example, text):      #перебираем все буквы в текст и эксемпл\n",
        "  return clean(text) == clean(example)\n",
        "\n",
        "# пробегаем по всему нашему словарю и ищем, в какой интент (намерение) попадает\n",
        "# введённое пользователем слово\n",
        "def get_intent(text):\n",
        "  for intent, value in BOT_CONFIG['intents'].items():\n",
        "    for example in value['examples']:\n",
        "      if match(example, text):\n",
        "        return random.choice(value['resposes'])\n",
        "  return'Я не понимаю, чего от меня хотят'"
      ],
      "metadata": {
        "id": "cdPVh9GKC-T_"
      },
      "execution_count": 37,
      "outputs": []
    },
    {
      "cell_type": "code",
      "source": [
        "question = input()\n",
        "answer = get_intent(question)\n",
        "print(answer)"
      ],
      "metadata": {
        "colab": {
          "base_uri": "https://localhost:8080/"
        },
        "id": "qxhrTA4TDZb9",
        "outputId": "2d266e93-f7d5-499b-f789-8d0699ca95d9"
      },
      "execution_count": 38,
      "outputs": [
        {
          "output_type": "stream",
          "name": "stdout",
          "text": [
            "привет\n",
            "Прив\n"
          ]
        }
      ]
    }
  ]
}