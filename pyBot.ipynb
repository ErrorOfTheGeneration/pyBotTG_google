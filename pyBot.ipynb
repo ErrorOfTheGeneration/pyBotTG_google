{
  "nbformat": 4,
  "nbformat_minor": 0,
  "metadata": {
    "colab": {
      "name": "pyBot.ipynb",
      "provenance": [],
      "collapsed_sections": [],
      "authorship_tag": "ABX9TyM4HxlFRMy0LL8ygmnmWrm9",
      "include_colab_link": true
    },
    "kernelspec": {
      "name": "python3",
      "display_name": "Python 3"
    },
    "language_info": {
      "name": "python"
    }
  },
  "cells": [
    {
      "cell_type": "markdown",
      "metadata": {
        "id": "view-in-github",
        "colab_type": "text"
      },
      "source": [
        "<a href=\"https://colab.research.google.com/github/ErrorOfTheGeneration/pyBotTG_google/blob/main/pyBot.ipynb\" target=\"_parent\"><img src=\"https://colab.research.google.com/assets/colab-badge.svg\" alt=\"Open In Colab\"/></a>"
      ]
    },
    {
      "cell_type": "code",
      "source": [
        "import random   # для рандомных ответов из словаря ответов\n",
        "import nltk     # для работы с опечатками\n",
        "import json\n"
      ],
      "metadata": {
        "id": "6Ni3H01aYMXC"
      },
      "execution_count": null,
      "outputs": []
    },
    {
      "cell_type": "code",
      "source": [
        "# далее обозначено зачем 1-я библиотека. 2-ю погуглить\n",
        "from sklearn.feature_extraction.text import CountVectorizer, TfidfVectorizer\n",
        "from sklearn.ensemble import RandomForestClassifier\n",
        "from sklearn.model_selection import train_test_split"
      ],
      "metadata": {
        "id": "fmUq-f45LOyU"
      },
      "execution_count": null,
      "outputs": []
    },
    {
      "cell_type": "code",
      "execution_count": null,
      "metadata": {
        "id": "FqRWgfSxuM5E"
      },
      "outputs": [],
      "source": [
        "with open('/content/BIG_BOT_CONFIG.json', 'r') as f:  \n",
        "  BOT_CONFIG = json.load(f)\n"
      ]
    },
    {
      "cell_type": "code",
      "source": [
        "# len(BOT_CONFIG['intents'])"
      ],
      "metadata": {
        "id": "dx3E_vu3ICxC"
      },
      "execution_count": null,
      "outputs": []
    },
    {
      "cell_type": "code",
      "source": [
        "X = []\n",
        "y = []\n",
        "\n",
        "for intent, value in BOT_CONFIG['intents'].items():\n",
        "  examples = set(value['examples']) # *1\n",
        "  X = X + value['examples']\n",
        "  y = y + [intent] * len(value['examples'])\n",
        "\n",
        "\n",
        "vectorizer = TfidfVectorizer() # ngram_range - с помощью этого пар-ра работаем со словосочет.\n",
        "X_transformed = vectorizer.fit_transform(X)\n",
        "\n",
        "X_train, X_test, y_train, y_test = train_test_split(X_transformed, y, test_size=0.2, random_state=42)\n",
        "\n",
        "classifier = RandomForestClassifier()\n",
        "classifier.fit(X_train, y_train) # обучаем"
      ],
      "metadata": {
        "id": "VuWo4h7Xg1pW"
      },
      "execution_count": null,
      "outputs": []
    },
    {
      "cell_type": "code",
      "source": [
        "def clean(text): #принимает текст, возвращает чищенный текст ниж.регистр и без знаков препинания\n",
        "  return ''.join([simbol for simbol in text.lower() if simbol in 'абвгдеёжзийклмнопрстуфхцчшщъыьэюя '])\n",
        "\n",
        "def match(example, text):      \n",
        "  return nltk.edit_distance(clean(text),clean(example)) / len(example) < 0.4\n",
        "\n",
        "def get_intent(text):\n",
        "  for intent, value in BOT_CONFIG['intents'].items():\n",
        "    for example in value['examples']:\n",
        "      if match(example, text):\n",
        "        return intent\n",
        "# возвращаем модель, предсказанную машинным обучением\n",
        "def get_intent_by_ml_model(text):\n",
        "  return classifier.predict(vectorizer.transform([text]))[0]\n"
      ],
      "metadata": {
        "id": "cdPVh9GKC-T_"
      },
      "execution_count": null,
      "outputs": []
    },
    {
      "cell_type": "code",
      "source": [
        "question = input()           \n",
        "answer = get_intent(question)\n",
        "print(answer)"
      ],
      "metadata": {
        "id": "qxhrTA4TDZb9",
        "colab": {
          "base_uri": "https://localhost:8080/"
        },
        "outputId": "dbfcdfbd-39e7-4887-a1e2-b4c94f6ff0fe"
      },
      "execution_count": null,
      "outputs": [
        {
          "output_type": "stream",
          "name": "stdout",
          "text": [
            "выход\n",
            "exit\n"
          ]
        }
      ]
    },
    {
      "cell_type": "code",
      "source": [
        "question = ''\n",
        "while question != 'выход':\n",
        "  question = input()            \n",
        "  intent = get_intent(question)\n",
        "\n",
        "  print(random.choice(BOT_CONFIG['intents'][intent]['resposes']))"
      ],
      "metadata": {
        "id": "IRUYDKBSAbJx",
        "colab": {
          "base_uri": "https://localhost:8080/"
        },
        "outputId": "424ddefe-b42b-4c61-c5a6-ecfe42e7a194"
      },
      "execution_count": null,
      "outputs": [
        {
          "output_type": "stream",
          "name": "stdout",
          "text": [
            "выход\n",
            "Вы покинули чат\n"
          ]
        }
      ]
    },
    {
      "cell_type": "code",
      "source": [
        "def bot(question):\n",
        "  intent = get_intent(question)\n",
        "  return random.choice(BOT_CONFIG['intents'][intent]['resposes'])"
      ],
      "metadata": {
        "id": "LopGGkLraRlX"
      },
      "execution_count": null,
      "outputs": []
    },
    {
      "cell_type": "code",
      "source": [
        "question = ''\n",
        "while question != 'выход':\n",
        "  question = input()\n",
        "  print(bot(question))"
      ],
      "metadata": {
        "id": "OsDYt2CUa-gv",
        "colab": {
          "base_uri": "https://localhost:8080/"
        },
        "outputId": "321a1092-7f68-4ded-be5f-ad82303bcc74"
      },
      "execution_count": null,
      "outputs": [
        {
          "output_type": "stream",
          "name": "stdout",
          "text": [
            "выход\n",
            "Вы покинули чат\n"
          ]
        }
      ]
    },
    {
      "cell_type": "code",
      "source": [
        "!pip install python-telegram-bot --upgrade\n",
        "# !pip install telegram"
      ],
      "metadata": {
        "id": "A5fe5eosbQXB"
      },
      "execution_count": null,
      "outputs": []
    },
    {
      "cell_type": "code",
      "source": [
        "import logging\n",
        "\n",
        "from telegram import Update, ForceReply\n",
        "from telegram.ext import Updater, CommandHandler, MessageHandler, Filters, CallbackContext\n",
        "\n",
        "# Enable logging\n",
        "logging.basicConfig(\n",
        "    format='%(asctime)s - %(name)s - %(levelname)s - %(message)s', level=logging.INFO\n",
        ")\n",
        "\n",
        "logger = logging.getLogger(__name__)\n",
        "\n",
        "\n",
        "# Define a few command handlers. These usually take the two arguments update and\n",
        "# context.\n",
        "def start(update: Update, context: CallbackContext) -> None:\n",
        "    \"\"\"Send a message when the command /start is issued.\"\"\"\n",
        "    user = update.effective_user\n",
        "    update.message.reply_markdown_v2(\n",
        "        fr'Hi {user.mention_markdown_v2()}\\!',\n",
        "        reply_markup=ForceReply(selective=True),\n",
        "    )\n",
        "\n",
        "\n",
        "def help_command(update: Update, context: CallbackContext) -> None:\n",
        "    \"\"\"Send a message when the command /help is issued.\"\"\"\n",
        "    update.message.reply_text('Help!')\n",
        "\n",
        "\n",
        "def echo(update: Update, context: CallbackContext) -> None:\n",
        "    \"\"\"Echo the user message.\"\"\"\n",
        "    #...\n",
        "    question = update.message.text\n",
        "    reply = bot(question)\n",
        "    update.message.reply_text(reply)\n",
        "\n",
        "\n",
        "def main() -> None:\n",
        "    \"\"\"Start the bot.\"\"\"\n",
        "    # Create the Updater and pass it your bot's token.\n",
        "    updater = Updater(\"2112041615:AAHO5D6TAdR_65zV8ORp5GYb4JnvjJo9IGE\")\n",
        "\n",
        "    # Get the dispatcher to register handlers\n",
        "    dispatcher = updater.dispatcher\n",
        "\n",
        "    # on different commands - answer in Telegram\n",
        "    dispatcher.add_handler(CommandHandler(\"start\", start))\n",
        "    dispatcher.add_handler(CommandHandler(\"help\", help_command))\n",
        "\n",
        "    # on non command i.e message - echo the message on Telegram\n",
        "    dispatcher.add_handler(MessageHandler(Filters.text & ~Filters.command, echo))\n",
        "\n",
        "    # Start the Bot\n",
        "    updater.start_polling()\n",
        "\n",
        "    # Run the bot until you press Ctrl-C or the process receives SIGINT,\n",
        "    # SIGTERM or SIGABRT. This should be used most of the time, since\n",
        "    # start_polling() is non-blocking and will stop the bot gracefully.\n",
        "    updater.idle()\n"
      ],
      "metadata": {
        "id": "2KBVeLhecPDq"
      },
      "execution_count": null,
      "outputs": []
    }
  ]
}